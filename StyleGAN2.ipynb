{
 "cells": [
  {
   "cell_type": "code",
   "execution_count": null,
   "id": "6b6574f7",
   "metadata": {},
   "outputs": [],
   "source": [
    "# import the normal stuff\n",
    "import tensorflow        as tf\n",
    "import numpy             as np\n",
    "import matplotlib.pyplot as plt"
   ]
  },
  {
   "cell_type": "code",
   "execution_count": null,
   "id": "3d55b8ae",
   "metadata": {},
   "outputs": [],
   "source": [
    "# DO THIS ONLY IF YOU ARE IN COLAB\n",
    "# Clone the repository with the TensorFlow2 update to StyleGAN2\n",
    "# Thanks Alberto Rosas!!\n",
    "%cd /content\n",
    "!git clone https://github.com/ruberad/StyleGAN2-TensorFlow-2.x.git stylegan2\n",
    "%cd /content/stylegan2"
   ]
  },
  {
   "cell_type": "code",
   "execution_count": null,
   "id": "78dfb443",
   "metadata": {},
   "outputs": [],
   "source": [
    "# import StyleGAN2-specific stuff\n",
    "from utils.utils_stylegan2 import convert_images_to_uint8\n",
    "from stylegan2_generator   import StyleGan2Generator"
   ]
  },
  {
   "cell_type": "code",
   "execution_count": null,
   "id": "3351e418",
   "metadata": {},
   "outputs": [],
   "source": [
    "!nvidia-smi -L"
   ]
  },
  {
   "cell_type": "code",
   "execution_count": null,
   "id": "12b20575",
   "metadata": {},
   "outputs": [],
   "source": [
    "#impl = 'cuda' # 'ref' if cuda is not available in your machine\n",
    "#gpu = True # False if tensorflow cpu is used\n",
    "impl = 'ref'\n",
    "gpu = False"
   ]
  },
  {
   "cell_type": "code",
   "execution_count": null,
   "id": "a9d0a34f",
   "metadata": {},
   "outputs": [],
   "source": [
    "import gdown\n",
    "# This is the URL of the online file with weights that StyleGan2 needs for generating faces\n",
    "url = 'https://drive.google.com/uc?id=1afMN3e_6UuTTPDL63WHaA0Fb9EQrZceE'\n",
    "# This is where we want the file to go (path on the virtual machine)\n",
    "out = 'weights/ffhq.npy'\n",
    "\n",
    "#gdown.download(url, out, quiet=False)"
   ]
  },
  {
   "cell_type": "code",
   "execution_count": null,
   "id": "c4f26387",
   "metadata": {},
   "outputs": [],
   "source": [
    "weights_name='ffhq' # face generation, high quality\n",
    "sg2 = StyleGan2Generator(weights=weights_name, impl=impl, gpu=gpu)"
   ]
  },
  {
   "cell_type": "code",
   "execution_count": null,
   "id": "07759836",
   "metadata": {},
   "outputs": [],
   "source": [
    "seed = 1234\n",
    "rng = np.random.RandomState(seed)\n",
    "z = rng.randn(1, 512).astype('float32')\n",
    "dlatents = sg2.mapping_network(z)\n",
    "\n",
    "trunc = 0.7\n",
    "w_avg = sg2.dlatent_avg\n",
    "dlatents = w_avg + (dlatents - w_avg) * trunc\n",
    "\n",
    "out = sg2.synthesis_network(dlatents)\n",
    "\n",
    "img = convert_images_to_uint8(out, nchw_to_nhwc=True, uint8_cast=True)\n"
   ]
  },
  {
   "cell_type": "code",
   "execution_count": null,
   "id": "f3ecb116",
   "metadata": {},
   "outputs": [],
   "source": [
    "#plotting images\n",
    "fig = plt.figure()\n",
    "ax = plt.gca()\n",
    "ax.axis('off')\n",
    "img_plot = ax.imshow(img.numpy()[0])"
   ]
  },
  {
   "cell_type": "code",
   "execution_count": null,
   "id": "58d46159",
   "metadata": {},
   "outputs": [],
   "source": []
  }
 ],
 "metadata": {
  "kernelspec": {
   "display_name": "Python 3 (ipykernel)",
   "language": "python",
   "name": "python3"
  },
  "language_info": {
   "codemirror_mode": {
    "name": "ipython",
    "version": 3
   },
   "file_extension": ".py",
   "mimetype": "text/x-python",
   "name": "python",
   "nbconvert_exporter": "python",
   "pygments_lexer": "ipython3",
   "version": "3.10.6"
  }
 },
 "nbformat": 4,
 "nbformat_minor": 5
}
