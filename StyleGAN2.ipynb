{
 "cells": [
  {
   "cell_type": "markdown",
   "id": "8f44790d",
   "metadata": {
    "colab_type": "text",
    "id": "view-in-github"
   },
   "source": [
    "<a href=\"https://colab.research.google.com/github/RubeRad/StyleGAN2-TensorFlow-2.x/blob/master/StyleGAN2.ipynb\" target=\"_parent\"><img src=\"https://colab.research.google.com/assets/colab-badge.svg\" alt=\"Open In Colab\"/></a>"
   ]
  },
  {
   "cell_type": "code",
   "execution_count": null,
   "id": "6b6574f7",
   "metadata": {
    "id": "6b6574f7"
   },
   "outputs": [],
   "source": [
    "# import the normal stuff\n",
    "import tensorflow        as tf\n",
    "import numpy             as np\n",
    "import matplotlib.pyplot as plt\n",
    "import os"
   ]
  },
  {
   "cell_type": "code",
   "execution_count": null,
   "id": "3d55b8ae",
   "metadata": {
    "id": "3d55b8ae"
   },
   "outputs": [],
   "source": [
    "# DO THIS IF YOU ARE IN COLAB\n",
    "# Clone the repository with the TensorFlow2 update to StyleGAN2\n",
    "# Thanks Alberto Rosas!!\n",
    "%cd /content\n",
    "!git clone https://github.com/ruberad/StyleGAN2-TensorFlow-2.x.git stylegan2\n",
    "%cd /content/stylegan2"
   ]
  },
  {
   "cell_type": "code",
   "execution_count": null,
   "id": "78dfb443",
   "metadata": {
    "id": "78dfb443"
   },
   "outputs": [],
   "source": [
    "# import StyleGAN2-specific stuff\n",
    "from utils.utils_stylegan2 import convert_images_to_uint8\n",
    "from stylegan2_generator   import StyleGan2Generator"
   ]
  },
  {
   "cell_type": "code",
   "execution_count": null,
   "id": "3351e418",
   "metadata": {
    "id": "3351e418"
   },
   "outputs": [],
   "source": [
    "# Check if you have access to a GPU in this (virtual) machine\n",
    "!nvidia-smi -L\n",
    "gpuname = tf.test.gpu_device_name()\n",
    "print('GPU Identified at: \"{}\"'.format(gpuname))\n",
    "\n",
    "if gpuname:\n",
    "  impl = 'cuda'\n",
    "  gpu = True\n",
    "  print('yay fast!')\n",
    "else:\n",
    "  impl = 'ref'\n",
    "  gpu = False\n",
    "  print('aww, slow.')"
   ]
  },
  {
   "cell_type": "code",
   "execution_count": null,
   "id": "a9d0a34f",
   "metadata": {
    "id": "a9d0a34f"
   },
   "outputs": [],
   "source": [
    "import gdown\n",
    "# This is the public URL of the online file with weights that StyleGan2 needs for generating faces\n",
    "url = 'https://drive.google.com/uc?export=download&confirm=pbef&id=1afMN3e_6UuTTPDL63WHaA0Fb9EQrZceE'\n",
    "# This is where we want the file to go (path on the virtual machine)\n",
    "out = 'weights/ffhq.npy'\n",
    "\n",
    "if os.path.exists(out):\n",
    "  print('ffhq.npy weights file is present')\n",
    "else:\n",
    "  gdown.download(url, out, quiet=False)"
   ]
  },
  {
   "cell_type": "code",
   "execution_count": null,
   "id": "c4f26387",
   "metadata": {
    "id": "c4f26387"
   },
   "outputs": [],
   "source": [
    "weights_name='ffhq' # face generation, high quality\n",
    "sg2 = StyleGan2Generator(weights=weights_name, impl=impl, gpu=gpu)"
   ]
  },
  {
   "cell_type": "code",
   "execution_count": null,
   "id": "ukh6hkGlFj4K",
   "metadata": {
    "id": "ukh6hkGlFj4K"
   },
   "outputs": [],
   "source": [
    "seed = 1\n",
    "rng = np.random.RandomState(seed)\n",
    "z = rng.randn(1, 512).astype('float32')\n",
    "z"
   ]
  },
  {
   "cell_type": "code",
   "execution_count": null,
   "id": "07759836",
   "metadata": {
    "id": "07759836"
   },
   "outputs": [],
   "source": [
    "w = sg2.mapping_network(z)\n",
    "w"
   ]
  },
  {
   "cell_type": "code",
   "execution_count": null,
   "id": "f9b5aad4",
   "metadata": {},
   "outputs": [],
   "source": [
    "trunc = 0.5\n",
    "w_avg = sg2.dlatent_avg\n",
    "w_trunc = w_avg + (w - w_avg) * trunc\n",
    "\n",
    "out = sg2.synthesis_network(w_trunc)\n",
    "\n",
    "img = convert_images_to_uint8(out)"
   ]
  },
  {
   "cell_type": "code",
   "execution_count": null,
   "id": "f3ecb116",
   "metadata": {
    "id": "f3ecb116"
   },
   "outputs": [],
   "source": [
    "#plotting images\n",
    "fig = plt.figure()\n",
    "ax = plt.gca()\n",
    "ax.axis('off')\n",
    "img_plot = ax.imshow(img)"
   ]
  },
  {
   "cell_type": "code",
   "execution_count": null,
   "id": "5cf1a756",
   "metadata": {},
   "outputs": [],
   "source": [
    "def generate_and_plot_from_seeds(generator, seeds):\n",
    "    fig,axs = plt.subplots(3,3, figsize=(15,15))\n",
    "    for i in range(min(len(seeds),9)):\n",
    "        print('seed:', seeds[i])\n",
    "        rng = np.random.RandomState(seeds[i])\n",
    "        z = rng.randn(1, 512).astype('float32')\n",
    "        \n",
    "        w = generator.mapping_network(z)\n",
    "        trunc = 0.5\n",
    "        w_avg = generator.dlatent_avg\n",
    "        w_trunc = w_avg + (w - w_avg) * trunc\n",
    "        \n",
    "        out = generator.synthesis_network(w_trunc)\n",
    "        \n",
    "        img = convert_images_to_uint8(out)\n",
    "        axs[i//3,i%3].axis('off')\n",
    "        img_plot = axs[i//3,i%3].imshow(img)"
   ]
  },
  {
   "cell_type": "code",
   "execution_count": null,
   "id": "4286cfa8",
   "metadata": {},
   "outputs": [],
   "source": [
    "seeds = []\n",
    "for i in range(9): \n",
    "    seeds.append(rng.randint(1,100000))\n",
    "generate_and_plot_from_seeds(sg2, seeds)"
   ]
  },
  {
   "cell_type": "code",
   "execution_count": null,
   "id": "28a84524",
   "metadata": {},
   "outputs": [],
   "source": []
  }
 ],
 "metadata": {
  "colab": {
   "include_colab_link": true,
   "provenance": []
  },
  "kernelspec": {
   "display_name": "Python 3 (ipykernel)",
   "language": "python",
   "name": "python3"
  },
  "language_info": {
   "codemirror_mode": {
    "name": "ipython",
    "version": 3
   },
   "file_extension": ".py",
   "mimetype": "text/x-python",
   "name": "python",
   "nbconvert_exporter": "python",
   "pygments_lexer": "ipython3",
   "version": "3.10.6"
  }
 },
 "nbformat": 4,
 "nbformat_minor": 5
}
